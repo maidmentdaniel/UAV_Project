{
 "cells": [
  {
   "cell_type": "markdown",
   "metadata": {},
   "source": [
    "## 2018/09/18\n",
    "### To Do\n",
    "* [ ] @mkhan Summarise documentation into a single spec sheet\n",
    " * Include mechanical specs like mim max flight speed, landing speed, etc...\n",
    "* [ ] We should all read the Arend Paper in it's entirety\n",
    "* [ ] @fpieterse and @hlaue need to charaterise the antennas and SDR and Cables\n",
    "* [ ] @dmaidment organise drive, commit highlighted paper for Maaz.\n",
    "* [ ] @jbester identify and correlate spec sheets in Embedded Systems folder with design requirements\n",
    "* [ ] @wduplessis consider the effects of ground wave interference [sic] for mounting base station antenna"
   ]
  },
  {
   "cell_type": "markdown",
   "metadata": {},
   "source": [
    "### Notes\n",
    "* Antenna mounting be 10m above the ground according to Gerrit, should probably be around 1.5~m realistically. Dish roughly of the size of a DSTV dish. Vegitation? Hill?\n",
    "* Frans-Paul is talking about monopulse radar again.\n"
   ]
  },
  {
   "cell_type": "markdown",
   "metadata": {},
   "source": [
    "### Missing\n",
    "* Daniël (not me)"
   ]
  },
  {
   "cell_type": "markdown",
   "metadata": {},
   "source": [
    "## 2018/09/25\n",
    "### To Do Pre Meeting\n",
    "* [x] Confirm batteries two six-cell Tattu Plus 16000 mAh lithium-polymer (LiPo) batteries. *wrong*\n",
    "* [ ] Mission Planner vs Mission OS\n",
    "* [x] Check Camera type.\n",
    "* [x] Why is there an RFID reader specced?\n",
    "* [x] Confirm Telemetry Box as Freewave GXM 2.4GHz\n",
    "* [x] What is this snoopy thing?\n",
    "### Notes Pre Meeting\n",
    "* **Arend Presentation and report_UP/Masterarbeit_Fels_2740892.pdf is worth reading as a current state of affairs update**\n",
    "* Mission Planner (MP) is a very well documented open-source software that serves as a fullfeatured\n",
    "ground station application for the Pixhawk Autopilot (see section 1.2.2). It can be used\n",
    "to:\n",
    "  * Configure and tune the UAV: Several parameters can be configured using the MP, these\n",
    "parameters are written in small caps in this work for more comprehensibility.\n",
    "  * Give commands to the autopilot.\n",
    "  * Download and analyze the data logs logged by the autopilot during flight.\n",
    "* MAVProxy and Cygwin (on Windows) are required to set up the SITL test. Cygwin allows the\n",
    "usage of unix-like software. It is needed to rebuilt ArduPilot on Windows.\n"
   ]
  },
  {
   "cell_type": "markdown",
   "metadata": {},
   "source": [
    "|  Hazard Severity \t| Hazard Definition                                                                                                                            \t|\n",
    "|:----------------:\t|----------------------------------------------------------------------------------------------------------------------------------------------\t|\n",
    "| I – Catastrophic \t| Results in loss of the aircraft and/or fatality to ground staff during ground preparation and launch or landing phase                        \t|\n",
    "|  II – Hazardous  \t| Results in flight termination over populated area and/or severe injury to ground staff during ground preparation and launch or landing phase \t|\n",
    "|    III – Major   \t| Results in controlled crash on predefined site and/or minor injury to ground staff during ground preparation and launch or landing phase     \t|\n",
    "|    IV – Minor    \t| Results in not significantly reduced safety margins or functional capabilities                                                               \t|\n",
    "|   V – No Effect  \t| Results in no change of any safety margins                                                                                                   \t|"
   ]
  },
  {
   "cell_type": "markdown",
   "metadata": {},
   "source": [
    "| Hazard | Description | Severity | Mitigation |\n",
    "|--------|--------------------------------------------------------------------------------------------------------|:--------:|----------------------------------------------------------------------------------------------------------------------------------------------------------------------------------------------------------------------------------------------|\n",
    "| 1 | Propeller or engine failure at engine start, including a mechanical breakage and projection of debris. | I | The operator of the FSWT rig that is used in the flight tests wears protection equipment. The rest of the ground staff has to remain in defined safety zones. |\n",
    "| 2 | Loss of autopilot | I | Uncontrolled crash in safe area. |\n",
    "| 3 | Loss of propulsion power | III | Landing or controlled crash in safe area. |\n",
    "| 4 | Low battery voltage | III | GCU Operator informs pilot to land or crash controlled in safe area. |\n",
    "| 5 | Loss of flight control due to single servo failure | III | If the UAV remains controllable it should be landed in a safe area. If that fails it will crash in the safe area. |\n",
    "| 6 | Loss of GPS connection | IV | UAV remains controllable but should be landed in safe area to fix the issue. |\n",
    "| 7 | Loss of navigation components (heading or altitude) | III | All stabilizing by the autopilot should be disabled and landing or crash in safe area should be initiated. |\n",
    "| 8 | Loss or degradation of radio link or radio control system | II | Autopilot mode must be set to loiter with the ground system and RC connection should be restored. If restoration fails, landing can be initiated with the GCU otherwise controlled crash in safe area. |\n",
    "| 9 | Loss of degradation of telemetry link | II | No safety risk because the aircraft remains in visual range. |\n",
    "| 10 | Non-preventable deceleration with the risk of not maintaining speed above the stall speed | V | Landing or controlled crash in safe area. |\n",
    "| 11 | Structural damage of the airframe | IV-I | Depending on the severity of the structural damage the UAV can still be controllable. In that case landing or crash in safe area is initiated. Otherwise the aircraft will most probably be lost. |\n",
    "| 12 | Crash of the vehicle used for takeoff | II-I | The operator of the FSWT rig stands on the bed of the vehicle. To prevent major injuries in case of a crash he/she should be secured with safety straps on the vehicle. The road used to takeoff should be as straight and even as possible. |\n",
    "| 13 | Structural damage of the FSWT rig | II | If the FSWT get damaged, the vehicle has to be stopped immediately to prevent hazards. |"
   ]
  },
  {
   "cell_type": "markdown",
   "metadata": {},
   "source": [
    "### Sensor Setup\n",
    "Various sensors are built in the UAV. The flight control system Pixhawk (see section 1.2.2 on\n",
    "page 3) already comes with a gyroscope, an accelerometer/magnetometer and a barometer. Additionally\n",
    "a GPS unit, a digital airspeed sensor and a light detection and ranging (LiDAR)\n",
    "altitude estimator are equipped and connected to the Pixhawk. The system has been complemented\n",
    "with an air data boom during the process of this work (see section 4.5).\n",
    "#### Gyroscope/Magnetometer/Accelerometer\n",
    "The Pixhawk Autopilot system is mounted roughly at the center of gravity of the UAV. It\n",
    "contains a three-axis digital output gyroscope L3GD20H (see data sheet [30]). Furthermore,\n",
    "the LSM303D, a combination of a magnetometer and accelerometer (see data sheet [31]) is built\n",
    "in the system. These three sensors are meant to keep track of the orientation of the UAV.\n",
    "#### Barometer\n",
    "The barometer implemented in the Pixhawk is a MS5611-01BA (see data sheet [32]) from the\n",
    "company MEAS in Switzerland. The barometric pressure sensor provides a precise (1-2% error)\n",
    "24 bit pressure and temperature value. The piezoresistive sensor built in the barometer delivers\n",
    "an uncompensated analogue output voltage, which is then converted to a digital 24 bit output\n",
    "by the sensor interface.\n",
    "#### GPS\n",
    "The GPS module 3DR uBlox (see data sheet [33]) is built in the UAV. It has a position accuracy\n",
    "of 2:5m and comes with a compass, so to speak, an additional magnetometer.\n",
    "#### Digital Airspeed Sensor\n",
    "The airspeed indicator Pixhawk Airspeed Sensor Kit (see data sheet [34]) is used. It comes with\n",
    "a pitot tube equipped with a pressure sensor of the type 4525DO and is attached below the\n",
    "wings facing forward.\n",
    "#### Air Data Boom\n",
    "To measure the AOA $\\alpha$ and the AOS $\\beta$ the UAV needs an air data boom (ADB). A sensor of\n",
    "this kind was built and attached to the UAV during this work. It is connected to the spine and\n",
    "comes out at the very tip of the nose. Therefore the ADB is just usable with the dummy nose."
   ]
  },
  {
   "cell_type": "markdown",
   "metadata": {},
   "source": [
    "## Systems Overview\n",
    "![alt text](Images/Systems_Overview.jpg)"
   ]
  },
  {
   "cell_type": "markdown",
   "metadata": {},
   "source": [
    "## Emebedded Systems Overiview\n",
    "![alt text](Images/Embedded_Systems_Overview.png)"
   ]
  },
  {
   "cell_type": "markdown",
   "metadata": {},
   "source": [
    "## Embedded System Requirements\n",
    "* AREND_002_AIRC_002: The aircraft shall utilize sensors to provide critical component state of health (SOH) information.\n",
    "* AREND_003_PYLD_001_EMBS_003: A visual camera shall be sized and selected for the AREND payload envelope.\n",
    "* AREND_003_PYLD_001_EMBS_004:  An IR camera shall be sized and selected for the AREND payload envelope.\n",
    "* AREND_003_PYLD_001_EMBS_005:  An RFID reader shall be sized and selected for the AREND payload envelope..\n",
    "* AREND_001_AIRC_001: Autopilot provides stabilization corrections during flight.\n",
    "* AREND_001_AIRC_003: The flight control system shall utilize navigation sensors for closed-loop control.\n",
    "* AREND_002_GRND_003_SOFT_001: The ground system shall utilize AES encryption method which allows the user to manually change/configure keys prior to flight.\n",
    "* AREND_002_GRND_003_SOFT_003: The ground system shall execute the encryption of uplink command prior to transmission to the aircraft. \n"
   ]
  },
  {
   "cell_type": "markdown",
   "metadata": {},
   "source": [
    "## Embedded System Introduction\n",
    "* Nvidia Jetson TK1\n",
    "* Prosilica GT6600 Camera\n",
    "* Solid State Drive / Data Card\n",
    "* Point Grey Camera\n",
    "* IR Camera\n",
    "* RFID Interrogator\n",
    "* Free Wave GXM 2.4GHz telemetry Radio\n",
    "* Snoopy\n",
    "* Thermistors"
   ]
  },
  {
   "cell_type": "markdown",
   "metadata": {},
   "source": [
    "### Embedded System Architecture\n",
    "![alt_text](Images/Embedded_System_Architecture.png)"
   ]
  },
  {
   "cell_type": "markdown",
   "metadata": {},
   "source": [
    "### Nvidia Jetson TK1\n",
    "* CPU of the unmanned vehicle.\n",
    "* Analyze sensor data and override the autopilot mode in PIXHAWK if required.\n",
    "* Image Processing on data being received from Vision Camera.\n",
    "* Platform for data logging on Solid State Drive (SSD).\n",
    "* Weight: 120g\n",
    "* Power Draw(12 V):~3W idle, ~14W full load\n",
    "* OS: Tegra 4 Linux (Canonical Ubuntu 14.04)\n",
    "* Processor: 2.3GHz Nvidia Tegra K1\n",
    "* Ports: RS232, HDMI, USB 3.0, micro-USB 2.0, Ethernet, SATA with four-pin power, GPIO."
   ]
  },
  {
   "cell_type": "markdown",
   "metadata": {},
   "source": [
    "### Prosilica GT 6600(long term camera) : Camera used for image capturing\n",
    "* Operating temperature: -20°C ... +50°C\n",
    "* Power consumption: 6.6 W @12 VDC\n",
    "* Mass: 372 g\n",
    "* Connection w/ Nvidia Jetson Tk1: Gigabit Ethernet(GigE) \n",
    "* Max Capacity: Resolution 28 MP @ max frame rate of 4 fps.\n",
    "* Required Capacity: Can store 100 mins worth of image data on 1 TB SSD if we capture images at * * * Resolution 28 MP @ 2 fps.  \n",
    "*Data courtesy University Of Pretoria.*"
   ]
  },
  {
   "cell_type": "markdown",
   "metadata": {},
   "source": [
    "### SSD \n",
    "***planned use***\n",
    "* Solid State Drive (SSD) Samsung 840 Evo:  For on flight  data storage. \n",
    "* Operating temperature: 0°C ... +70°C\n",
    "* Power Consumption: Avg. 1.35W@ 5 VDC\n",
    "* Mass: Max .12 lb. \n",
    "* Connection w/ Nvidia Jetson Tk1: SATA \n",
    "* Max DataWrite Rate: 520 MB/s \n",
    "* Required DataWrite Rate: 160 MB/s[Images from Camera] \n",
    "***currentley using SD card for storage***"
   ]
  },
  {
   "cell_type": "markdown",
   "metadata": {},
   "source": [
    "### Point Grey Flea3(short term) : Camera used for image capturing\n",
    "* Point Grey Flea3 GigE FL3-GE-28S4C-C\n",
    "* Lens: Tamron 12VM1040ASIR (10 ~ 40 mm focal length)\n",
    "* 115 gms, 103.5 x 42.6 mm (LxD) [with lens]\n",
    "* The camera interfaces with the central processor over a GigE \n",
    "  * Video output\n",
    "  * Camera control\n",
    "* Operating temperature: 0°C ... +45°C\n",
    "* Power consumption: <2.5W@12 VDC\n",
    "* Mass: 38 grams (without optics)\n",
    "* Connection w/ Nvidia Jetson Tk1: Gigabit Ethernet(GigE) \n",
    "* Max Capacity: Resolution 2.8 MP @ max frame rate of 15 fps.\n",
    "* Requirement: 40 pixel on 50cmx50cm target\n",
    "* Required Capacity: 15fps[63 MBps]\n",
    "* Power is supplied to the camera over the GPIO connector\n",
    "  * 12-24 VDC\n",
    "  * <2.5 W\n"
   ]
  },
  {
   "cell_type": "markdown",
   "metadata": {},
   "source": [
    "### RFID Interrogator(Long Term): RX 50 Solo Reader\n",
    "* Mass: 80 gms\n",
    "* Power consumption: 3.3-15 VDC & 9mA (Max \u000b",
    "current consumption)  \n",
    "* Data Rates: The RX50 Solo Reader can read tag data \u000b",
    "wirelessly and process tag information @ * * * 9600~115,200 baud rate\n",
    "* Connection w/ Nvidia Jetson Tk1: USB"
   ]
  },
  {
   "cell_type": "markdown",
   "metadata": {},
   "source": [
    "### 3DR Pixhawk: Autopilot"
   ]
  },
  {
   "cell_type": "markdown",
   "metadata": {},
   "source": [
    "### Freewave GXM 2.4GHz: Radio for Pixhawk Telemetry\n",
    "* Dimensions: (2.75” L x 2.4” W x 0.40” H) \n",
    "* Weight: 37g\n",
    "* Data Throughput: 115.2 kbps \n",
    "* Security: Secure: FHSS technology prevents detection \u000b",
    "and unauthorized access; 128 bit AES * *  * * encryption available"
   ]
  },
  {
   "cell_type": "markdown",
   "metadata": {},
   "source": [
    "### Snoopy Payload Package\n",
    "*A “Snoopy” system shall be sized and selected for the AREND payload envelope*\n",
    "* Mass: 254.5 g \n",
    "* Beagle Bone connects to Rx Unit through USB connection\n",
    "* Beagle Bone powers Rx Unit from 5V output power pins\n",
    "* BEC is soldered to 2S LiPoGSM antenna connects \u000b",
    "to Rx Unit with SMA connector\n",
    "* Beagle Bone connects to the NVIDIA Jetson TK1\u000b",
    " to include data in telemetry"
   ]
  },
  {
   "cell_type": "markdown",
   "metadata": {},
   "source": [
    "### Temperature Sensors\n",
    "#### Requirement: The aircraft shall utilize temperature sensors for each critical component at risk of overheating.\n",
    "#### Compliance Criteria:\n",
    "1. Expected accuracy +/- 5 degrees Celsius\n",
    "2. Components to have temperature measured include, at minimum;\n",
    "  1. motor\n",
    "  2. speed controller (ESC)\n",
    "  3. central processing unit    (CPU)\n",
    "  4. camera\n",
    "  5. each individual battery cell\n"
   ]
  },
  {
   "cell_type": "markdown",
   "metadata": {},
   "source": [
    "### To do\n",
    "* [ ] Arrange meeting on Thursday or Friday, Friday is ideal.\n",
    "* [ ] Have a look at the telemtry box\n",
    "* [ ] Decide on next step for comms antenna\n",
    "* [ ] @Tim do case studies on mounting system, look at transport.\n",
    "* [ ] @Heinrich\n",
    "* [ ] @dmaidment find Snoopy.\n",
    "* [ ] @mkhan look up if it's possible to simiulates autopilot in the PixHawk\n",
    "* [ ] @mkhan look up autopilot restrictions on drones.\n",
    "### Meeting Notes\n",
    "* long term plan, developing long range communication link.\n",
    "* Focus on monopulse as a short term plan.\n",
    "* Started modelling mounting system\n",
    "* Snoopy, distributed tracking framework for Drones.\n",
    "* *monopulse* do stuff\n",
    "  * what are the accuracy requirements for distances\n",
    "  * find the horizontal beam-width\n",
    "  * "
   ]
  },
  {
   "cell_type": "markdown",
   "metadata": {},
   "source": [
    "## 2018/10/16 Meeting\n",
    "### Meeting Notes\n",
    "#### Missing\n",
    "* Shaun (Excused)\n",
    "#### Poster Theme\n",
    "* Monopulse radar\n",
    "  * maybe just show an image of the radar\n",
    "  * \n",
    "* Tripod\n",
    "  * Finite Element Model will be the image.\n",
    "* commslink\n",
    "  * Requirements list\n",
    "  * Picture of UAV\n",
    "  * Antenna\n",
    "  * High level architectural bloc diagram\n",
    "    * images instead of blocks\n",
    "  * the importance of data\n",
    "    * the can't fly without comms link\n",
    "    * needs to be able to capture and send images of the poachers\n",
    "* structured like a mind map\n",
    "* centred on communications with AREND as the implementation of the communication and tracking in an adverse terrain.\n",
    "  * for UAV systems\n",
    "* Distance requirement leads to the requirements of Gain and tower, and search pattern, etc...\n",
    "* try to make it as visual as possible? Maybe\n",
    "#### General\n",
    "* Tripod, there is a tree common to the Kruger with an average height of 10 to 12 m\n",
    "  * This limits the minimum height of the tripod to the range of 10ish m, which is approximately 3 floors.\n",
    "#### Coming up\n",
    "* Maybe meeting with AREND on Friday the 19th (**tentative**)\n",
    "* Poster Session, soon\n",
    "\n",
    "### Post meeting\n",
    "* Use the projector? Kind of lost track of what we were saying at this point.\n"
   ]
  },
  {
   "cell_type": "markdown",
   "metadata": {},
   "source": [
    "## 2018/10/23\n",
    "* Do we want a board bigger than A1[2x2]?\n",
    "    * We have 2xA0 posters.\n",
    "    * Seems reasonable?\n",
    "* Posters:\n",
    "    * protrait\n",
    "    * A1\n",
    "    * Same colour scheme\n",
    "    * RGB: 07875\n",
    "    * RFID:\n",
    "        * v1\n",
    "            * Margins too small\n",
    "            * Text unbalanced\n",
    "        * v2\n",
    "            * too bland\n",
    "        * v3\n",
    "            * really cool diagram\n",
    "    * AREND\n",
    "        * 3 sub sections\n",
    "        * start from the inside\n",
    "        * diagrams instead of text for readability\n",
    "        * $\\frac{2}{3}$ design specs\n",
    "        * $\\frac{1}{3}$ brief team intro\n",
    "        * needs digitising\n",
    "    * Deadline is the 26$^{th}$\n",
    "    \n",
    "* The whole concept of VIP is the education of engineers\n",
    "    * How do the team work dynamics evolve?\n",
    "    * There will be a survey about team dynamics.\n",
    "    * link will be made available.\n",
    "* There will be no formal VIP during the holiday.\n",
    "* Non-student members will be allowed to continue."
   ]
  },
  {
   "cell_type": "markdown",
   "metadata": {},
   "source": [
    "# 2019/02/21"
   ]
  },
  {
   "cell_type": "markdown",
   "metadata": {},
   "source": [
    "1. What are our engineering requirements?\n",
    "2. Does this mean we need to actually build a drone?\n",
    " 1. We clearly need to do this BES/MIA style\n",
    " "
   ]
  },
  {
   "cell_type": "markdown",
   "metadata": {},
   "source": [
    "# 2019/02/28"
   ]
  },
  {
   "cell_type": "markdown",
   "metadata": {},
   "source": [
    "* Rietfontein Anti-poaching\n",
    "  * Need a drone.\n",
    "  * We can test at the Rietfontein\n",
    "  * We need to get specs\n",
    "  * Circumference of 30 km\n",
    "  * Diameter of 8 km\n",
    "  \n"
   ]
  },
  {
   "cell_type": "markdown",
   "metadata": {},
   "source": [
    "* 12\" prop\n",
    "* Batteries\n",
    "* Voltage controller"
   ]
  }
 ],
 "metadata": {
  "kernelspec": {
   "display_name": "Python 3",
   "language": "python",
   "name": "python3"
  },
  "language_info": {
   "codemirror_mode": {
    "name": "ipython",
    "version": 3
   },
   "file_extension": ".py",
   "mimetype": "text/x-python",
   "name": "python",
   "nbconvert_exporter": "python",
   "pygments_lexer": "ipython3",
   "version": "3.6.8"
  }
 },
 "nbformat": 4,
 "nbformat_minor": 2
}
